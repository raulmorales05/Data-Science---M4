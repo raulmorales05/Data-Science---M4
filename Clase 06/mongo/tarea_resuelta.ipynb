{
 "cells": [
  {
   "cell_type": "code",
   "execution_count": null,
   "metadata": {},
   "outputs": [],
   "source": [
    "#1. Desarrollar un script en python que baje desde Buenos Aires Data el JSON correspondiente a los Centros Médicos Barriales.\n",
    "import requests\n",
    "from pprint import pprint\n",
    "from pymongo import MongoClient"
   ]
  },
  {
   "cell_type": "code",
   "execution_count": null,
   "metadata": {},
   "outputs": [],
   "source": [
    "url = 'https://cdn.buenosaires.gob.ar/datosabiertos/datasets/salud/centros-medicos-barriales/centros-medicos-barriales.geojson'\n",
    "response = requests.get(url)\n",
    "objeto = response.json()\n",
    "#pprint(objeto)\n",
    "pprint(objeto['features'])\n",
    "for estacion in objeto['features']:\n",
    "    pprint(estacion['properties'])"
   ]
  },
  {
   "cell_type": "code",
   "execution_count": null,
   "metadata": {},
   "outputs": [],
   "source": [
    "#2. Insertar ese JSON en una base de datos de mongo.\n",
    "cliente = MongoClient(\"mongodb://localhost:27017/\")\n",
    "bd = cliente['salud']\n",
    "coleccion = bd['centros']\n",
    "coleccion.remove()\n",
    "coleccion.insert_many(objeto['features'])"
   ]
  },
  {
   "cell_type": "code",
   "execution_count": null,
   "metadata": {},
   "outputs": [],
   "source": [
    "#3. Realizar un query que traiga los datos de los Centros Médicos Barrialess correspondientes al barrio de Barracas, ordenados por el campo OBJECTID, descendente.\n",
    "client = MongoClient('mongodb://localhost:27017/')\n",
    "filter={'properties.BARRIO': 'Barracas'}\n",
    "sort=list({'properties.OBJECTID': -1}.items())\n",
    "result = client['salud']['centros'].find(filter=filter,sort=sort)\n",
    "for resultado in result:\n",
    "   pprint(resultado)"
   ]
  },
  {
   "cell_type": "code",
   "execution_count": null,
   "metadata": {},
   "outputs": [],
   "source": [
    "#4. Realizar un query que traiga los datos de las Centros Médicos Barriales donde dentro de las especialidades se incluya Odontología.\n",
    "import re\n",
    "client = MongoClient('mongodb://localhost:27017/')\n",
    "filter={'properties.ESPECIALID': re.compile(r\"Odonto\")}\n",
    "result = client['salud']['centros'].find(filter=filter)\n",
    "for resultado in result:\n",
    "   pprint(resultado)"
   ]
  },
  {
   "cell_type": "code",
   "execution_count": null,
   "metadata": {},
   "outputs": [],
   "source": [
    "#5. Generar a partir de este JSON un archivo de salida de tipo CSV, para su posterior geovisualización en www.gpsvisualizer.com , como fue realizado en el módulo 1, considerando que los campos/encabezados deben ser: latitude, longitude, name, label.\n",
    "\n",
    "client = MongoClient('mongodb://localhost:27017/')\n",
    "filter={}\n",
    "project={\n",
    "    'properties.NOMBRE': 1, \n",
    "    'properties.Dom_mapa': 1, \n",
    "    'geometry.coordinates': 1\n",
    "}\n",
    "result = client['salud']['centros'].find(filter=filter, projection=project)\n",
    "salida = open('centros.csv', 'w', encoding='utf-8')\n",
    "salida.write('latitude,longitude,name,label\\n')\n",
    "for resultado in result:\n",
    "   nombre = resultado['properties']['NOMBRE']\n",
    "   direccion = resultado['properties']['Dom_mapa']\n",
    "   lon = resultado['geometry']['coordinates'][0]\n",
    "   lat = resultado['geometry']['coordinates'][1]\n",
    "   salida.write(f'{lat},{lon},{direccion},{nombre}\\n')\n",
    "\n",
    "salida.close()"
   ]
  }
 ],
 "metadata": {
  "kernelspec": {
   "display_name": "Python 3.9.7 64-bit",
   "language": "python",
   "name": "python3"
  },
  "language_info": {
   "codemirror_mode": {
    "name": "ipython",
    "version": 3
   },
   "file_extension": ".py",
   "mimetype": "text/x-python",
   "name": "python",
   "nbconvert_exporter": "python",
   "pygments_lexer": "ipython3",
   "version": "3.9.7"
  },
  "orig_nbformat": 4,
  "vscode": {
   "interpreter": {
    "hash": "11938c6bc6919ae2720b4d5011047913343b08a43b18698fd82dedb0d4417594"
   }
  }
 },
 "nbformat": 4,
 "nbformat_minor": 2
}
